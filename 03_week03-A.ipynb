{
 "cells": [
  {
   "attachments": {},
   "cell_type": "markdown",
   "metadata": {},
   "source": [
    "# WEEK 3: Assignment 3\n",
    "\n",
    "Assignment submitted on 2022-08-17, 07:24 IST "
   ]
  },
  {
   "attachments": {},
   "cell_type": "markdown",
   "metadata": {},
   "source": [
    "## SECTION 1"
   ]
  },
  {
   "attachments": {},
   "cell_type": "markdown",
   "metadata": {},
   "source": [
    "Read the comma-separated values file *hotel_bookings.csv* as a dataframe ***data_hotel*** and answer questions 1 - 3. Please refer to **Hotel_Bookings_Data_Description.pdf** for data and variable description."
   ]
  },
  {
   "attachments": {},
   "cell_type": "markdown",
   "metadata": {},
   "source": [
    "### Question 1"
   ]
  },
  {
   "attachments": {},
   "cell_type": "markdown",
   "metadata": {},
   "source": [
    "Choose the appropriate command(s) to filter those booking details whose reservation_status are a No-show?\n",
    "\n",
    "- data_hotel_ns = data_hotel.loc[data_hotel.reservation_status] = 'No-Show']\n",
    "- data_hotel_ns = data_hotel[data_hotel.reservation_status == 'No-Show'] [X]\n",
    "- data_hotel_ns = data_hotel.reservation_status.loc[data_hotel.isin(['No-Show'])]\n",
    "- data_hotel_ns = data_hotel.loc[data_hotel.reservation_status.isin(['No-Show'])] [X]"
   ]
  },
  {
   "attachments": {},
   "cell_type": "markdown",
   "metadata": {},
   "source": [
    "### Question 2"
   ]
  },
  {
   "attachments": {},
   "cell_type": "markdown",
   "metadata": {},
   "source": [
    "From the same data, find how many bookings were not canceled in the year 2017?\n",
    "\n",
    "- 9064  [X]\n",
    "- 6231\n",
    "- 9046\n",
    "- None of the above"
   ]
  },
  {
   "attachments": {},
   "cell_type": "markdown",
   "metadata": {},
   "source": [
    "### Question 3"
   ]
  },
  {
   "attachments": {},
   "cell_type": "markdown",
   "metadata": {},
   "source": [
    "From the total bookings that were made in **2017** and **not canceled**, which month had the highest number of repeated guests?\n",
    "\n",
    "- July\n",
    "- February\n",
    "- January   [X]\n",
    "- None of the above"
   ]
  },
  {
   "attachments": {},
   "cell_type": "markdown",
   "metadata": {},
   "source": [
    "## SECTION 2"
   ]
  },
  {
   "attachments": {},
   "cell_type": "markdown",
   "metadata": {},
   "source": [
    "Read the '***flavors_of_cocoa.csv***’  file as a dataframe ‘***dt_cocoa***’ and answer questions 4-7.\n",
    "\n",
    "|Variable |Description | \n",
    "|---|---|\n",
    "|Id |Serial no. | \n",
    "|Company |Name of a manufacturing company | \n",
    "|Bean Origin |Plane of origin of cocoa bean  | \n",
    "|Review Data |Year in which chocolates were rated | \n",
    "|Cocoa Percent |Percentage of cocoa in chocolate | \n",
    "|Company Location |Locatioin of a manufacturing company | \n",
    "|Rating |Ratings of the chocolates |"
   ]
  },
  {
   "attachments": {},
   "cell_type": "markdown",
   "metadata": {},
   "source": [
    "### Question 4"
   ]
  },
  {
   "attachments": {},
   "cell_type": "markdown",
   "metadata": {},
   "source": [
    "Which of the following commands can be used to create a variable **Flag**, and set the values as **Premium** when the ***rating*** is **equal to** or **greater than 3.25**, and otherwise as **Regular**? \n",
    "\n",
    "- dt_cocoa['Flag']=[\"Premium\" if x > 3.25 else \"Regular\" for x in dt_cocoa['Rating']]\n",
    "- dt_cocoa['Flag']=[\"Premium\" if x >= 3.25 else \"Regular\" for x in dt_cocoa['Rating']] [X]\n",
    "- dt_cocoa[\"Flag\"] = np.where(dt_cocoa[\"Rating\"] < 3.25, \"Regular\",\"Premium\") [X]\n",
    "- None of the above"
   ]
  },
  {
   "attachments": {},
   "cell_type": "markdown",
   "metadata": {},
   "source": [
    "### Question 5"
   ]
  },
  {
   "attachments": {},
   "cell_type": "markdown",
   "metadata": {},
   "source": [
    "Which instruction can be used to impute the missing values in the column **Review Data** from the dataframe ***dt_cocoa*** by grouping the records company – wise?\n",
    "\n",
    "- dt_cocoa['Review Date'] = dt_cocoa.groupby(['Company'])['Review Date'].apply(lambda x:x.fillna(x.mode().iloc[0]))     [X]\n",
    "- dt_cocoa['Review Date'] = dt_cocoa.groupby(['Company'])['Review Date'].apply(lambda x:x.fillna(x.mean()))\n",
    "- dt_cocoa['Review Date'] = dt_cocoa.groupby(['Company'])['Review Date'].apply(lambda x: x.fillna(x.mode()))\n",
    "- None of the above"
   ]
  },
  {
   "attachments": {},
   "cell_type": "markdown",
   "metadata": {},
   "source": [
    "### Question 6"
   ]
  },
  {
   "attachments": {},
   "cell_type": "markdown",
   "metadata": {},
   "source": [
    "After checking the data summary, which feature requires a data conversion considering the data values held?\n",
    "\n",
    "- Rating\n",
    "- Review Date   [X]\n",
    "- Company\n",
    "- None of the above"
   ]
  },
  {
   "attachments": {},
   "cell_type": "markdown",
   "metadata": {},
   "source": [
    "### Question 7"
   ]
  },
  {
   "attachments": {},
   "cell_type": "markdown",
   "metadata": {},
   "source": [
    "What is the maximum average rating for the cocoa companies based out of Guatemala?\n",
    "- 4\n",
    "- 3.5\n",
    "- 3.42  [X]\n",
    "- None of the above"
   ]
  },
  {
   "attachments": {},
   "cell_type": "markdown",
   "metadata": {},
   "source": [
    "### Question 8"
   ]
  },
  {
   "attachments": {},
   "cell_type": "markdown",
   "metadata": {},
   "source": [
    "Which pandas function is used to stack the dataframes vertically?\n",
    "\n",
    "- pd.merge()\n",
    "- pd.concat()   [X]\n",
    "- join()\n",
    "- None of the above"
   ]
  },
  {
   "attachments": {},
   "cell_type": "markdown",
   "metadata": {},
   "source": [
    "## SECTION 3"
   ]
  },
  {
   "attachments": {},
   "cell_type": "markdown",
   "metadata": {},
   "source": [
    "Assume a pandas dataframe **df_weather** which when printed is as shown below:\n",
    "\n",
    "|Direction\t| Temperature\t| Windspeed | \tHumidity |\n",
    "|---|---|---|---|\n",
    "|0 | \tEast| \t49|\t10 |\t78 |\n",
    "| 1| \tWest|\t54|\t5   | 80 |\n",
    "|2\t| North|\t35|\t8|\t92|\n",
    "|3 |\tSouth|\t42|\t15|\t70|"
   ]
  },
  {
   "attachments": {},
   "cell_type": "markdown",
   "metadata": {},
   "source": [
    "### Question 9"
   ]
  },
  {
   "attachments": {},
   "cell_type": "markdown",
   "metadata": {},
   "source": [
    "Of the following set of statements, which of them can be used to extract the column **Direction** as a separate dataframe?\n",
    "\n",
    "- df_weather[['Direction']]     [X]\n",
    "- df_weather.iloc[:,0]\n",
    "- df_weather.loc[:,['Direction']]       [X]\n",
    "- None of the above"
   ]
  },
  {
   "attachments": {},
   "cell_type": "markdown",
   "metadata": {},
   "source": [
    "## SECTION 4"
   ]
  },
  {
   "attachments": {},
   "cell_type": "markdown",
   "metadata": {},
   "source": [
    "### Question 10"
   ]
  },
  {
   "attachments": {},
   "cell_type": "markdown",
   "metadata": {},
   "source": [
    "A file “**Students.csv**” contains the attendance and scores of three separate students. This dataset is loaded into a dataframe ***df_study*** and a cross table is obtained from the same dataframe which results in the following output\n",
    "\n",
    "| Person|\tChemistry|\tMaths|\tPhysics|\tAll|\n",
    "|---|---|---|---|---|\n",
    "|Harini|\t90.00|\t94.00|\t83.00|\t89.00|\n",
    "|Rekha|\t92.00|\t85.00|\t95.00|\t90.67|\n",
    "|Sathi|\t74.00|\t84.00|\t81.00|\t79.67|\n",
    "|All\t|85.33|\t87.67|\t86.33|\t86.44|\n",
    "\n",
    "Which one of these students’ average score across all subjects was the lowest? Which subject has the highest average score across students?"
   ]
  },
  {
   "attachments": {},
   "cell_type": "markdown",
   "metadata": {},
   "source": [
    "- Harini, Maths\n",
    "- Sathi, Maths      [X]\n",
    "- Harini, Physics\n",
    "- Rekha, Maths "
   ]
  }
 ],
 "metadata": {
  "kernelspec": {
   "display_name": "base",
   "language": "python",
   "name": "python3"
  },
  "language_info": {
   "codemirror_mode": {
    "name": "ipython",
    "version": 3
   },
   "file_extension": ".py",
   "mimetype": "text/x-python",
   "name": "python",
   "nbconvert_exporter": "python",
   "pygments_lexer": "ipython3",
   "version": "3.9.7"
  },
  "orig_nbformat": 4,
  "vscode": {
   "interpreter": {
    "hash": "a077222d77dfe082b8f1dd562ad70e458ac2ab76993a0b248ab0476e32e9e8dd"
   }
  }
 },
 "nbformat": 4,
 "nbformat_minor": 2
}
