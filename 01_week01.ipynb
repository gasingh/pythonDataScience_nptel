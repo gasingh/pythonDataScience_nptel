{
 "cells": [
  {
   "attachments": {},
   "cell_type": "markdown",
   "metadata": {},
   "source": [
    "# WEEK 1: Assignment 1\n",
    "\n",
    "Due on 2022-08-10, 23:59 IST.\n",
    " "
   ]
  },
  {
   "attachments": {},
   "cell_type": "markdown",
   "metadata": {},
   "source": [
    "## Question 1"
   ]
  },
  {
   "attachments": {},
   "cell_type": "markdown",
   "metadata": {},
   "source": [
    "What is the output of the following code?\n",
    "\n",
    "```\n",
    "num1 = 12\n",
    "num2 = \"58\"\n",
    "print(num1 + num2)\n",
    "```"
   ]
  },
  {
   "attachments": {},
   "cell_type": "markdown",
   "metadata": {},
   "source": [
    "- [ ] 12 <br>\n",
    "- [ ] 58 <br>\n",
    "- [ ] 70 <br>\n",
    "- [x] Error: Invalid operation, unsupported operator ‘+’ used between 'int' and 'str’  <br>"
   ]
  },
  {
   "attachments": {},
   "cell_type": "markdown",
   "metadata": {},
   "source": [
    "## Question 2"
   ]
  },
  {
   "attachments": {},
   "cell_type": "markdown",
   "metadata": {},
   "source": [
    "Given two variables j = 6 and g = 3.3. If both normal division and floor division operators were used to divide j by g, what would be the data type of the value obtained from the operations? "
   ]
  },
  {
   "cell_type": "markdown",
   "metadata": {},
   "source": [
    "<input type=\"checkbox\" > int, int <br>\n",
    "<input type=\"checkbox\" checked> float, float <br>\n",
    "<input type=\"checkbox\" > float, int <br>\n",
    "<input type=\"checkbox\"> int, float <br>"
   ]
  },
  {
   "attachments": {},
   "cell_type": "markdown",
   "metadata": {},
   "source": [
    "## Question 3"
   ]
  },
  {
   "attachments": {},
   "cell_type": "markdown",
   "metadata": {},
   "source": [
    "Let a = 5 (101 in binary) and b = 3 (011 in binary). Which of the following operations results in the values 7 and 1?"
   ]
  },
  {
   "attachments": {},
   "cell_type": "markdown",
   "metadata": {},
   "source": [
    "<input type=\"checkbox\" > a or b; a and b <br>\n",
    "<input type=\"checkbox\" checked> a | b; a & b <br>\n",
    "<input type=\"checkbox\" > not b; b and a <br>\n",
    "<input type=\"checkbox\"> a and b; a or b<br>"
   ]
  },
  {
   "attachments": {},
   "cell_type": "markdown",
   "metadata": {},
   "source": [
    "## Question 4"
   ]
  },
  {
   "attachments": {},
   "cell_type": "markdown",
   "metadata": {},
   "source": [
    "State whether the given statement is True or False.\n",
    "\n",
    "When using the floor division operator (//), if the result is negative, then the result is rounded off to the next largest integer."
   ]
  },
  {
   "attachments": {},
   "cell_type": "markdown",
   "metadata": {},
   "source": [
    "<input type=\"checkbox\" > True <br>\n",
    "<input type=\"checkbox\" checked> False <br>"
   ]
  },
  {
   "attachments": {},
   "cell_type": "markdown",
   "metadata": {},
   "source": [
    "## Question 5"
   ]
  },
  {
   "attachments": {},
   "cell_type": "markdown",
   "metadata": {},
   "source": [
    "Let x = \"50\". Which of the following commands converts the ‘x’ to float datatype?"
   ]
  },
  {
   "attachments": {},
   "cell_type": "markdown",
   "metadata": {},
   "source": [
    "<input type=\"checkbox\" > str(float,x) <br>\n",
    "<input type=\"checkbox\" > x.float() <br>\n",
    "<input type=\"checkbox\" checked> float(x) <br>\n",
    "<input type=\"checkbox\" > Cannot convert a string to float datatype <br>"
   ]
  },
  {
   "attachments": {},
   "cell_type": "markdown",
   "metadata": {},
   "source": [
    "## Question 6"
   ]
  },
  {
   "attachments": {},
   "cell_type": "markdown",
   "metadata": {},
   "source": [
    "Which of the following variable names are INVALID in Python?"
   ]
  },
  {
   "cell_type": "markdown",
   "metadata": {},
   "source": [
    "<input type=\"checkbox\" checked> 1_variable <br>\n",
    "<input type=\"checkbox\" > variable_1 <br>\n",
    "<input type=\"checkbox\" checked> variable_* <br>\n",
    "<input type=\"checkbox\" > variable1 <br>"
   ]
  },
  {
   "attachments": {},
   "cell_type": "markdown",
   "metadata": {},
   "source": [
    "## Question 7"
   ]
  },
  {
   "attachments": {},
   "cell_type": "markdown",
   "metadata": {},
   "source": [
    "Which of the following variable assignments would throw an error?"
   ]
  },
  {
   "attachments": {},
   "cell_type": "markdown",
   "metadata": {},
   "source": [
    "<input type=\"checkbox\" > var1=True; var2=False; <br>\n",
    "<input type=\"checkbox\" checked> var1=false; var2=true; <br>\n",
    "<input type=\"checkbox\" checked> var1='True'; var2='False'; <br>\n",
    "<input type=\"checkbox\" > var1='true'; var2='false'; <br>"
   ]
  },
  {
   "attachments": {},
   "cell_type": "markdown",
   "metadata": {},
   "source": [
    "## Question 8"
   ]
  },
  {
   "attachments": {},
   "cell_type": "markdown",
   "metadata": {},
   "source": [
    "Predict the output of the following code\n",
    "\n",
    "```\n",
    "x = 4\n",
    "y = 11\n",
    "p = 5.0\n",
    "ans = x**(y%p)\n",
    "print(ans)\n",
    "```"
   ]
  },
  {
   "attachments": {},
   "cell_type": "markdown",
   "metadata": {},
   "source": [
    "<input type=\"checkbox\" > 4 <br>\n",
    "<input type=\"checkbox\" checked> 4.0 <br>\n",
    "<input type=\"checkbox\" > 5 <br>\n",
    "<input type=\"checkbox\" > 4.1 <br>"
   ]
  },
  {
   "cell_type": "markdown",
   "metadata": {},
   "source": []
  },
  {
   "attachments": {},
   "cell_type": "markdown",
   "metadata": {},
   "source": [
    "## Question 9"
   ]
  },
  {
   "attachments": {},
   "cell_type": "markdown",
   "metadata": {},
   "source": [
    "The value of the variable result after running the code snippet below is ____\n",
    "\n",
    "```\n",
    "num = 20.5\n",
    "z = 3\n",
    "result = 2+z*3+num//z\n",
    "print(result)\n",
    "```"
   ]
  },
  {
   "attachments": {},
   "cell_type": "markdown",
   "metadata": {},
   "source": [
    "<input type=\"checkbox\" > 89.0 <br>\n",
    "<input type=\"checkbox\" checked> 17.0 <br>\n",
    "<input type=\"checkbox\" > 737 <br>\n",
    "<input type=\"checkbox\" > 96.0 <br>"
   ]
  },
  {
   "attachments": {},
   "cell_type": "markdown",
   "metadata": {},
   "source": [
    "## Question 10"
   ]
  },
  {
   "attachments": {},
   "cell_type": "markdown",
   "metadata": {},
   "source": [
    "Which Python library is commonly used for data wrangling and manipulation?"
   ]
  },
  {
   "attachments": {},
   "cell_type": "markdown",
   "metadata": {},
   "source": [
    "<input type=\"checkbox\" > Numpy <br>\n",
    "<input type=\"checkbox\" checked> Pandas <br>\n",
    "<input type=\"checkbox\" > scikit <br>\n",
    "<input type=\"checkbox\" > Math <br>"
   ]
  }
 ],
 "metadata": {
  "kernelspec": {
   "display_name": "base",
   "language": "python",
   "name": "python3"
  },
  "language_info": {
   "codemirror_mode": {
    "name": "ipython",
    "version": 3
   },
   "file_extension": ".py",
   "mimetype": "text/x-python",
   "name": "python",
   "nbconvert_exporter": "python",
   "pygments_lexer": "ipython3",
   "version": "3.9.7 (default, Sep 16 2021, 16:59:28) [MSC v.1916 64 bit (AMD64)]"
  },
  "orig_nbformat": 4,
  "vscode": {
   "interpreter": {
    "hash": "a077222d77dfe082b8f1dd562ad70e458ac2ab76993a0b248ab0476e32e9e8dd"
   }
  }
 },
 "nbformat": 4,
 "nbformat_minor": 2
}
