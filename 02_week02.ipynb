{
 "cells": [
  {
   "attachments": {},
   "cell_type": "markdown",
   "metadata": {},
   "source": [
    "# WEEK 1: Assignment 1\n",
    "\n",
    "Due on 2022-08-10, 23:59 IST.\n",
    " "
   ]
  },
  {
   "attachments": {},
   "cell_type": "markdown",
   "metadata": {},
   "source": [
    "## Question 1"
   ]
  },
  {
   "attachments": {},
   "cell_type": "markdown",
   "metadata": {},
   "source": [
    "Which of the following function(s) can be used to resize a NumPy array in Python from the given options.\n",
    "\n",
    "- array.shape(reshape)\n",
    "- array.reshape(shape) [X]\n",
    "- numpy.reshape(array, shape) [X]\n",
    "- numpy.reshape(shape, array)"
   ]
  },
  {
   "attachments": {},
   "cell_type": "markdown",
   "metadata": {},
   "source": [
    "## Question 2"
   ]
  },
  {
   "attachments": {},
   "cell_type": "markdown",
   "metadata": {},
   "source": [
    "Create the tuples given below:\n",
    "```\n",
    "\ttuple_1 = (1,5,6,7,8)\n",
    "\ttuple_2 = (8,9,4)\n",
    "```\n",
    "Identify which of the following options does not work on the given tuples\n",
    "\n",
    "- sum(tuple_1)\n",
    "- len(tuple_2)\n",
    "- tuple_2 + tuple_1\n",
    "- tuple_1[3] = 45 [X]\n"
   ]
  },
  {
   "attachments": {},
   "cell_type": "markdown",
   "metadata": {},
   "source": [
    "## Question 3"
   ]
  },
  {
   "attachments": {},
   "cell_type": "markdown",
   "metadata": {},
   "source": [
    "Create a sequence of numbers from 15 to 25 and increment by 4. What is the index of the element 19?\n",
    "\n",
    "- 3\n",
    "- 2\n",
    "- 0\n",
    "- 1 [X]"
   ]
  },
  {
   "attachments": {},
   "cell_type": "markdown",
   "metadata": {},
   "source": [
    "## Question 4"
   ]
  },
  {
   "attachments": {},
   "cell_type": "markdown",
   "metadata": {},
   "source": [
    "Consider a variable `job = \"chemist\"`. Which of the following expression(s) will retrieve the last character from the string?\n",
    "\n",
    "- job[7]\n",
    "- job[len(job) - 1] [X]\n",
    "- job[5:6]\n",
    "- job[- 1] [X]"
   ]
  },
  {
   "attachments": {},
   "cell_type": "markdown",
   "metadata": {},
   "source": [
    "## Question 5"
   ]
  },
  {
   "attachments": {},
   "cell_type": "markdown",
   "metadata": {},
   "source": [
    "Given a list, `ls = [1, 2, 3, 3, 2, 3, 1, 4, 5, 6, 5, 6, 3, 2, 1, 1, 1, 7, 8, 9, 7, 8, 9, 7, 8, 9, 7, 8, 9, 10, 10, 1, 2, 3, 9, 10]`, which of the following would be the most efficient method in determining the unique elements present in ls?\n",
    "\n",
    "- By converting ls into a NumPy array, and applying relevant methods\n",
    "- By converting ls into a set [X]\n",
    "- By iterating through ls, and doing appropriate manipulations\n",
    "- None of the above"
   ]
  },
  {
   "attachments": {},
   "cell_type": "markdown",
   "metadata": {},
   "source": [
    "## Question 6"
   ]
  },
  {
   "attachments": {},
   "cell_type": "markdown",
   "metadata": {},
   "source": [
    "Which of the following data structure(s) can be used as a key while creating a dictionary?\n",
    "\n",
    "- list\n",
    "- str [X]\n",
    "- set\n",
    "- None [X]"
   ]
  },
  {
   "attachments": {},
   "cell_type": "markdown",
   "metadata": {},
   "source": [
    "## Question 7"
   ]
  },
  {
   "attachments": {},
   "cell_type": "markdown",
   "metadata": {},
   "source": [
    "Given a dictionary, `states = {'Tamil Nadu': 'TN', 'Karnataka': 'KA', 'Kerala': 'KL', 'Maharashtra': 'MH'}`, which of the following command(s) is used to remove the key-value pair `'Karnataka': 'KA'` from it?\n",
    "\n",
    "- del states[‘Karnataka’] [X]\n",
    "- states.popitem(‘Karnataka’)\n",
    "- states.pop(‘Karnataka’)\n",
    "- del states[‘Karnataka’:’KA’]"
   ]
  },
  {
   "attachments": {},
   "cell_type": "markdown",
   "metadata": {},
   "source": [
    "## Question 8"
   ]
  },
  {
   "attachments": {},
   "cell_type": "markdown",
   "metadata": {},
   "source": [
    "Which of the following is valid to declare a string literal Shin’ichi to a variable?\n",
    "\n",
    "- “Shin’ichi”\n",
    "- ‘Shin”ichi’\n",
    "- ‘Shin’ichi’\n",
    "- None of the above [X]"
   ]
  },
  {
   "attachments": {},
   "cell_type": "markdown",
   "metadata": {},
   "source": [
    "## Question 9"
   ]
  },
  {
   "attachments": {},
   "cell_type": "markdown",
   "metadata": {},
   "source": [
    "Which of the following commands can be used to create a `NumPy array`?\n",
    "\n",
    "- np.array()\n",
    "- np.zeros()\n",
    "- np.empty()\n",
    "- All of the above [X]"
   ]
  },
  {
   "attachments": {},
   "cell_type": "markdown",
   "metadata": {},
   "source": [
    "## Question 10"
   ]
  },
  {
   "attachments": {},
   "cell_type": "markdown",
   "metadata": {},
   "source": [
    "Given a NumPy array, `arr = np.array([[5,9,10], [7,2,6], [12,8,0]])`, find the correct command from the following options to get an output array as `[24 15 20]`?\n",
    "\n",
    "- np.sum(arr)\n",
    "- np.sum(arr, axis = 0)\n",
    "- np.sum(arr, axis = 1) [X]\n",
    "- None of the above"
   ]
  }
 ],
 "metadata": {
  "kernelspec": {
   "display_name": "base",
   "language": "python",
   "name": "python3"
  },
  "language_info": {
   "codemirror_mode": {
    "name": "ipython",
    "version": 3
   },
   "file_extension": ".py",
   "mimetype": "text/x-python",
   "name": "python",
   "nbconvert_exporter": "python",
   "pygments_lexer": "ipython3",
   "version": "3.9.7 (default, Sep 16 2021, 16:59:28) [MSC v.1916 64 bit (AMD64)]"
  },
  "orig_nbformat": 4,
  "vscode": {
   "interpreter": {
    "hash": "a077222d77dfe082b8f1dd562ad70e458ac2ab76993a0b248ab0476e32e9e8dd"
   }
  }
 },
 "nbformat": 4,
 "nbformat_minor": 2
}
