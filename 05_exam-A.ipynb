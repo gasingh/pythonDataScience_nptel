{
 "cells": [
  {
   "attachments": {},
   "cell_type": "markdown",
   "metadata": {},
   "source": [
    "# EXAM: Session 2\n",
    "\n",
    "Session 2 - Sep 16 (8 PM to 11 PM )  \n",
    "Due on 2022-09-16, 23:00 IST.  "
   ]
  },
  {
   "attachments": {},
   "cell_type": "markdown",
   "metadata": {},
   "source": [
    "## SESSION 1"
   ]
  },
  {
   "attachments": {},
   "cell_type": "markdown",
   "metadata": {},
   "source": [
    "**Follow the instructions given below and answer the questions**\n",
    "\n",
    "i.Read the given dataset ***apy_2.csv***  \n",
    "ii.Drop the rows with missing values, if any"
   ]
  },
  {
   "attachments": {},
   "cell_type": "markdown",
   "metadata": {},
   "source": [
    "### Question 1"
   ]
  },
  {
   "attachments": {},
   "cell_type": "markdown",
   "metadata": {},
   "source": [
    "Which of these crops are produced during the Summer season? (select option with all that apply)\n",
    "\n",
    "- Arecanut, Arhar/Tur, Bajra, Castor seed\n",
    "- Paddy, Maize, Moong (Green Gram), Onion, Sunflower       [X]\n",
    "- Banana, Coriander, Gram, Rapeseed & Mustard\n",
    "- Rice, Sugarcane, Paddy, Tomato"
   ]
  },
  {
   "attachments": {},
   "cell_type": "markdown",
   "metadata": {},
   "source": [
    "### Question 2"
   ]
  },
  {
   "attachments": {},
   "cell_type": "markdown",
   "metadata": {},
   "source": [
    "During which year did Haryana have the highest crop production?\n",
    "\n",
    "- 2013\n",
    "- 2011\n",
    "- 1997\n",
    "- 2008      [X]"
   ]
  },
  {
   "attachments": {},
   "cell_type": "markdown",
   "metadata": {},
   "source": [
    "### Question 3"
   ]
  },
  {
   "attachments": {},
   "cell_type": "markdown",
   "metadata": {},
   "source": [
    "The maximum and minimum area for production were in the years?\n",
    "\n",
    "- 1997 and 2014\n",
    "- 1998 and 2015\n",
    "- 1997 and 2015     [X]\n",
    "- 1999 and 2005"
   ]
  },
  {
   "attachments": {},
   "cell_type": "markdown",
   "metadata": {},
   "source": [
    "### Question 4"
   ]
  },
  {
   "attachments": {},
   "cell_type": "markdown",
   "metadata": {},
   "source": [
    "Which state in India had the second lowest crop production? (overall, for all years)\n",
    "\n",
    "- Meghalaya\n",
    "- Chandigarh\n",
    "- Mizoram       [X]\n",
    "- Manipur"
   ]
  },
  {
   "attachments": {},
   "cell_type": "markdown",
   "metadata": {},
   "source": [
    "### Question 5"
   ]
  },
  {
   "attachments": {},
   "cell_type": "markdown",
   "metadata": {},
   "source": [
    "What were the top three produced crops in the year 2012?\n",
    "\n",
    "- Wheat, Potato, Rice\n",
    "- Coconut, Potato, Sugarcane\n",
    "- Coconut, Sugarcane, Rice      [X]\n",
    "- Rice, Sugarcane, Maize"
   ]
  },
  {
   "attachments": {},
   "cell_type": "markdown",
   "metadata": {},
   "source": [
    "### Question 6"
   ]
  },
  {
   "attachments": {},
   "cell_type": "markdown",
   "metadata": {},
   "source": [
    "What is the standard deviation for Area of production?\n",
    "\n",
    "- 52957.44 (approx.)\n",
    "- 12167.42 (approx.)\n",
    "- 49177.60 (approx.)    [X]\n",
    "- 48848.27 (approx.)"
   ]
  },
  {
   "attachments": {},
   "cell_type": "markdown",
   "metadata": {},
   "source": [
    "### Question 7"
   ]
  },
  {
   "attachments": {},
   "cell_type": "markdown",
   "metadata": {},
   "source": [
    "Which is the crop that gave the highest production to the state of Andhra Pradesh?\n",
    "\n",
    "- Sugarcane\n",
    "- Wheat\n",
    "- Banana\n",
    "- Coconut       [X]"
   ]
  },
  {
   "attachments": {},
   "cell_type": "markdown",
   "metadata": {},
   "source": [
    "### Question 8"
   ]
  },
  {
   "attachments": {},
   "cell_type": "markdown",
   "metadata": {},
   "source": [
    "Which of the following statements is true? (Select all that applies)\n",
    "\n",
    "- The overall production during the Kharif season is 2,029,970,000 (approx.)\n",
    "- The overall production during the Summer season is 51,992,900 (approx.) [X]\n",
    "- The overall production during the Autumn season is 14,413,770 (approx.)\n",
    "- The overall production during the Kharif season is 1,282,056,700 (approx.) [X]"
   ]
  },
  {
   "attachments": {},
   "cell_type": "markdown",
   "metadata": {},
   "source": [
    "### Question 9"
   ]
  },
  {
   "attachments": {},
   "cell_type": "markdown",
   "metadata": {},
   "source": [
    "Which state has the lowest area of production?\n",
    "\n",
    "- Puducherry\n",
    "- Chandigarh    [X]\n",
    "- Kerala\n",
    "- Goa"
   ]
  },
  {
   "attachments": {},
   "cell_type": "markdown",
   "metadata": {},
   "source": [
    "### Question 10"
   ]
  },
  {
   "attachments": {},
   "cell_type": "markdown",
   "metadata": {},
   "source": [
    "What is the mean for the area of production?\n",
    "\n",
    "- 17065.81 (approx.)\n",
    "- 12035.39 (approx.) [X]\n",
    "- 11868.49 (approx.)\n",
    "- 58250.34 (approx.)"
   ]
  },
  {
   "attachments": {},
   "cell_type": "markdown",
   "metadata": {},
   "source": [
    "### Question 11"
   ]
  },
  {
   "attachments": {},
   "cell_type": "markdown",
   "metadata": {},
   "source": [
    "What is the correlation coefficient between Area and Production?\n",
    "\n",
    "- 37.686\n",
    "- 0.37686\n",
    "- 3.7686\n",
    "- 0.037686      [X]"
   ]
  },
  {
   "attachments": {},
   "cell_type": "markdown",
   "metadata": {},
   "source": [
    "### Question 12"
   ]
  },
  {
   "attachments": {},
   "cell_type": "markdown",
   "metadata": {},
   "source": [
    "The crops that had the highest production (in the correct order) were?\n",
    "\n",
    "- Coconut, Sugarcane, Cucumber, Potato, Rice\n",
    "- Gram, Jute, Soya bean, Maize, Cotton\n",
    "- Coconut, Sugarcane, Rice, Wheat, Potato           [X]\n",
    "- Sugarcane, Wheat, Soya bean, Potato, Coconut"
   ]
  },
  {
   "attachments": {},
   "cell_type": "markdown",
   "metadata": {},
   "source": [
    "### Question 13"
   ]
  },
  {
   "attachments": {},
   "cell_type": "markdown",
   "metadata": {},
   "source": [
    "Which is the only crop that has the highest production during autumn, summer, and winter?\n",
    "\n",
    "- Rice      [X]\n",
    "- Maize\n",
    "- Paddy\n",
    "- Jute"
   ]
  },
  {
   "attachments": {},
   "cell_type": "markdown",
   "metadata": {},
   "source": [
    "## SESSION 2"
   ]
  },
  {
   "attachments": {},
   "cell_type": "markdown",
   "metadata": {},
   "source": [
    "Prepare the dataset further by following the steps given below: \n",
    "\n",
    "\t●Ensure the datatypes of the columns are appropriate\n",
    "\t●Drop all the variables except “Area” and “Production”\n",
    "\t●Split the data into the train (70%) and test (30%) sets, and set the random state for the train-test split instance as 42\n",
    "\n",
    "Build a linear regression model using the training dataset by having **“Area”** as the independent variable and **“Production”** as the dependent variable. Using the model that has been built, answer the following question."
   ]
  },
  {
   "attachments": {},
   "cell_type": "markdown",
   "metadata": {},
   "source": [
    "### Question 14"
   ]
  },
  {
   "attachments": {},
   "cell_type": "markdown",
   "metadata": {},
   "source": [
    "The Root mean square value of the Linear regression model is\n",
    "\n",
    "- 13850999.74575 (approx)   [X]\n",
    "- 1001531.33109 (approx)\n",
    "- 13524820.12533 (approx)\n",
    "- 14599645.26554 (approx)"
   ]
  },
  {
   "attachments": {},
   "cell_type": "markdown",
   "metadata": {},
   "source": [
    "### Question 15"
   ]
  },
  {
   "attachments": {},
   "cell_type": "markdown",
   "metadata": {},
   "source": [
    "The MAE of the Linear regression model is\n",
    "\n",
    "- 18529629.51147 (approx)\n",
    "- 827676.37303 (approx)     [X]\n",
    "- 13524820.12533 (approx)\n",
    "- 112599645.26554 (approx)"
   ]
  }
 ],
 "metadata": {
  "kernelspec": {
   "display_name": "base",
   "language": "python",
   "name": "python3"
  },
  "language_info": {
   "codemirror_mode": {
    "name": "ipython",
    "version": 3
   },
   "file_extension": ".py",
   "mimetype": "text/x-python",
   "name": "python",
   "nbconvert_exporter": "python",
   "pygments_lexer": "ipython3",
   "version": "3.9.7"
  },
  "orig_nbformat": 4,
  "vscode": {
   "interpreter": {
    "hash": "a077222d77dfe082b8f1dd562ad70e458ac2ab76993a0b248ab0476e32e9e8dd"
   }
  }
 },
 "nbformat": 4,
 "nbformat_minor": 2
}
