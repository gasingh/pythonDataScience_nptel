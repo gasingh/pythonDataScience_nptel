{
 "cells": [
  {
   "attachments": {},
   "cell_type": "markdown",
   "metadata": {},
   "source": [
    "# WEEK 4: Assignment 4\n",
    "\n",
    "Assignment due on 2022-08-24, 23:59 IST. "
   ]
  },
  {
   "attachments": {},
   "cell_type": "markdown",
   "metadata": {},
   "source": [
    "### Question 1"
   ]
  },
  {
   "attachments": {},
   "cell_type": "markdown",
   "metadata": {},
   "source": [
    "The power consumption of an individual house in a residential complex has been recorded for the previous year. This data is analysed to predict the power consumption for the next year. Under which type of machine learning problem does this fall under? \n",
    "\n",
    "- Classification    \n",
    "- Regression    [X]\n",
    "- Reinforcement Learning\n",
    "- None of the above"
   ]
  },
  {
   "attachments": {},
   "cell_type": "markdown",
   "metadata": {},
   "source": [
    "### Question 2"
   ]
  },
  {
   "attachments": {},
   "cell_type": "markdown",
   "metadata": {},
   "source": [
    "A dataset contains data collected by the Tamil Nadu Pollution Control Board on environmental conditions (154 variables) from one of their monitoring stations. This data is further analyzed to understand the most significant factors that affect the Air Quality Index. The predictive algorithm that can be used in this situation is ___________. \n",
    "\n",
    "- Logistic Regression\n",
    "- Simple Linear Regression\n",
    "- Multiple Linear Regression    [X]\n",
    "- None of the above "
   ]
  },
  {
   "attachments": {},
   "cell_type": "markdown",
   "metadata": {},
   "source": [
    "### Question 3"
   ]
  },
  {
   "attachments": {},
   "cell_type": "markdown",
   "metadata": {},
   "source": [
    "A regression model with the following function y = 60 + 5.2x was built to understand the impact of humidity (x) on rainfall (y). The humidity this week is 30 more than the previous week. What is the predicted difference in rainfall?\n",
    "\n",
    "- 156 mm\n",
    "- 15.6 mm\n",
    "- -156 mm\n",
    "- None of the above"
   ]
  },
  {
   "attachments": {},
   "cell_type": "markdown",
   "metadata": {},
   "source": [
    "**Read the information given below and answer the questions from 4 to 7:**"
   ]
  },
  {
   "attachments": {},
   "cell_type": "markdown",
   "metadata": {},
   "source": [
    "**Data Description:**\n",
    "\n",
    "An automotive service chain is launching its new grand service station this weekend. They offer to\n",
    "service a wide variety of cars. The current capacity of the station is to check 315 cars thoroughly per\n",
    "day. As an inaugural offer, they claim to freely check all cars that arrive on their launch day, and\n",
    "report whether they need servicing or not!\n",
    "\n",
    "Unexpectedly, they get 450 cars. The servicemen will not work longer than the working hours, but\n",
    "the data analysts have to!\n",
    "\n",
    "Can you save the day for the new service station?\n",
    "\n",
    "How can a data scientist save the day for them?\n",
    "\n",
    "He has been given a data set, ‘*ServiceTrain.csv*’ that contains some attributes of the car that can be\n",
    "easily measured and a conclusion that if a service is needed or not.\n",
    "\n",
    "Now for the cars they cannot check in detail, they measure those attributes and store them in\n",
    "‘***ServiceTest.csv***’"
   ]
  },
  {
   "attachments": {},
   "cell_type": "markdown",
   "metadata": {},
   "source": [
    "**Problem Statement:**\n",
    "\n",
    "Use machine learning techniques to identify whether the cars require service or not"
   ]
  },
  {
   "attachments": {},
   "cell_type": "markdown",
   "metadata": {},
   "source": [
    "**Read the given datasets ‘ServiceTrain.csv’ and ‘ServiceTest.csv’ as train_data and test_data respectively and import all the required packages for analysis.**"
   ]
  },
  {
   "attachments": {},
   "cell_type": "markdown",
   "metadata": {},
   "source": [
    "### Question 4"
   ]
  },
  {
   "attachments": {},
   "cell_type": "markdown",
   "metadata": {},
   "source": [
    "Which of the following machine learning techniques would NOT be appropriate to solve the problem given in the problem statement?\n",
    "\n",
    "- kNN\n",
    "- Random Forest\n",
    "- Logistic Regression\n",
    "- Linear Regression     [X]"
   ]
  },
  {
   "attachments": {},
   "cell_type": "markdown",
   "metadata": {},
   "source": [
    "### Question 5"
   ]
  },
  {
   "attachments": {},
   "cell_type": "markdown",
   "metadata": {},
   "source": [
    "The plot shown below denotes the percentage distribution of the target column values within the **train_data** dataframe. Which of the following options are correct?\n",
    "\n",
    "```\n",
    "    ..........................................     \n",
    "    |                                        |     \n",
    "YES |5555555555555^                          |     \n",
    "... |5555555555555^                          |     \n",
    "    |                                        |     \n",
    "    |                                        |     \n",
    "NO  555555555555555555555555555555555555555! |     \n",
    "... 555555555555555555555555555555555555555! |     \n",
    "    |                                        |\n",
    "    |........................................|     \n",
    "    |    ^    ^    ^    ^    ^    ^    ^    ^|\n",
    "    0   10   20    30   40   50   60   70   80\n",
    "```\n",
    "- Yes > 20, No > 60\n",
    "- No > 70, Yes > 20      [X]\n",
    "- Yes > 30, No > 70\n",
    "- Yes > 70, No > 30"
   ]
  },
  {
   "attachments": {},
   "cell_type": "markdown",
   "metadata": {},
   "source": [
    "### Question 6"
   ]
  },
  {
   "attachments": {},
   "cell_type": "markdown",
   "metadata": {},
   "source": [
    "After checking the data summary, which feature requires a data conversion considering the data values held?\n",
    "\n",
    "- Rating\n",
    "- Review Date   [X]\n",
    "- Company\n",
    "- None of the above"
   ]
  },
  {
   "attachments": {},
   "cell_type": "markdown",
   "metadata": {},
   "source": [
    "### Question 7"
   ]
  },
  {
   "attachments": {},
   "cell_type": "markdown",
   "metadata": {},
   "source": [
    "What is the maximum average rating for the cocoa companies based out of Guatemala?\n",
    "- 4\n",
    "- 3.5\n",
    "- 3.42  [X]\n",
    "- None of the above"
   ]
  },
  {
   "attachments": {},
   "cell_type": "markdown",
   "metadata": {},
   "source": [
    "### Question 8"
   ]
  },
  {
   "attachments": {},
   "cell_type": "markdown",
   "metadata": {},
   "source": [
    "Which pandas function is used to stack the dataframes vertically?\n",
    "\n",
    "- pd.merge()\n",
    "- pd.concat()   [X]\n",
    "- join()\n",
    "- None of the above"
   ]
  },
  {
   "attachments": {},
   "cell_type": "markdown",
   "metadata": {},
   "source": [
    "### Question 9"
   ]
  },
  {
   "attachments": {},
   "cell_type": "markdown",
   "metadata": {},
   "source": [
    "Of the following set of statements, which of them can be used to extract the column **Direction** as a separate dataframe?\n",
    "\n",
    "- df_weather[['Direction']]     [X]\n",
    "- df_weather.iloc[:,0]\n",
    "- df_weather.loc[:,['Direction']]       [X]\n",
    "- None of the above"
   ]
  },
  {
   "attachments": {},
   "cell_type": "markdown",
   "metadata": {},
   "source": [
    "### Question 10"
   ]
  },
  {
   "attachments": {},
   "cell_type": "markdown",
   "metadata": {},
   "source": [
    "- Harini, Maths\n",
    "- Sathi, Maths      [X]\n",
    "- Harini, Physics\n",
    "- Rekha, Maths "
   ]
  }
 ],
 "metadata": {
  "kernelspec": {
   "display_name": "base",
   "language": "python",
   "name": "python3"
  },
  "language_info": {
   "codemirror_mode": {
    "name": "ipython",
    "version": 3
   },
   "file_extension": ".py",
   "mimetype": "text/x-python",
   "name": "python",
   "nbconvert_exporter": "python",
   "pygments_lexer": "ipython3",
   "version": "3.9.7 (default, Sep 16 2021, 16:59:28) [MSC v.1916 64 bit (AMD64)]"
  },
  "orig_nbformat": 4,
  "vscode": {
   "interpreter": {
    "hash": "a077222d77dfe082b8f1dd562ad70e458ac2ab76993a0b248ab0476e32e9e8dd"
   }
  }
 },
 "nbformat": 4,
 "nbformat_minor": 2
}
